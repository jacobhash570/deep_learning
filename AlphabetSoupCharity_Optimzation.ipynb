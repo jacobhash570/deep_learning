{
 "cells": [
  {
   "cell_type": "code",
   "execution_count": 1,
   "metadata": {},
   "outputs": [],
   "source": [
    "# Import our dependencies\n",
    "from sklearn.model_selection import train_test_split\n",
    "from sklearn.preprocessing import StandardScaler\n",
    "import pandas as pd\n",
    "import tensorflow as tf"
   ]
  },
  {
   "cell_type": "code",
   "execution_count": 2,
   "metadata": {},
   "outputs": [
    {
     "data": {
      "text/html": [
       "<div>\n",
       "<style scoped>\n",
       "    .dataframe tbody tr th:only-of-type {\n",
       "        vertical-align: middle;\n",
       "    }\n",
       "\n",
       "    .dataframe tbody tr th {\n",
       "        vertical-align: top;\n",
       "    }\n",
       "\n",
       "    .dataframe thead th {\n",
       "        text-align: right;\n",
       "    }\n",
       "</style>\n",
       "<table border=\"1\" class=\"dataframe\">\n",
       "  <thead>\n",
       "    <tr style=\"text-align: right;\">\n",
       "      <th></th>\n",
       "      <th>EIN</th>\n",
       "      <th>NAME</th>\n",
       "      <th>APPLICATION_TYPE</th>\n",
       "      <th>AFFILIATION</th>\n",
       "      <th>CLASSIFICATION</th>\n",
       "      <th>USE_CASE</th>\n",
       "      <th>ORGANIZATION</th>\n",
       "      <th>STATUS</th>\n",
       "      <th>INCOME_AMT</th>\n",
       "      <th>SPECIAL_CONSIDERATIONS</th>\n",
       "      <th>ASK_AMT</th>\n",
       "      <th>IS_SUCCESSFUL</th>\n",
       "    </tr>\n",
       "  </thead>\n",
       "  <tbody>\n",
       "    <tr>\n",
       "      <th>0</th>\n",
       "      <td>10520599</td>\n",
       "      <td>BLUE KNIGHTS MOTORCYCLE CLUB</td>\n",
       "      <td>T10</td>\n",
       "      <td>Independent</td>\n",
       "      <td>C1000</td>\n",
       "      <td>ProductDev</td>\n",
       "      <td>Association</td>\n",
       "      <td>1</td>\n",
       "      <td>0</td>\n",
       "      <td>N</td>\n",
       "      <td>5000</td>\n",
       "      <td>1</td>\n",
       "    </tr>\n",
       "    <tr>\n",
       "      <th>1</th>\n",
       "      <td>10531628</td>\n",
       "      <td>AMERICAN CHESAPEAKE CLUB CHARITABLE TR</td>\n",
       "      <td>T3</td>\n",
       "      <td>Independent</td>\n",
       "      <td>C2000</td>\n",
       "      <td>Preservation</td>\n",
       "      <td>Co-operative</td>\n",
       "      <td>1</td>\n",
       "      <td>1-9999</td>\n",
       "      <td>N</td>\n",
       "      <td>108590</td>\n",
       "      <td>1</td>\n",
       "    </tr>\n",
       "    <tr>\n",
       "      <th>2</th>\n",
       "      <td>10547893</td>\n",
       "      <td>ST CLOUD PROFESSIONAL FIREFIGHTERS</td>\n",
       "      <td>T5</td>\n",
       "      <td>CompanySponsored</td>\n",
       "      <td>C3000</td>\n",
       "      <td>ProductDev</td>\n",
       "      <td>Association</td>\n",
       "      <td>1</td>\n",
       "      <td>0</td>\n",
       "      <td>N</td>\n",
       "      <td>5000</td>\n",
       "      <td>0</td>\n",
       "    </tr>\n",
       "    <tr>\n",
       "      <th>3</th>\n",
       "      <td>10553066</td>\n",
       "      <td>SOUTHSIDE ATHLETIC ASSOCIATION</td>\n",
       "      <td>T3</td>\n",
       "      <td>CompanySponsored</td>\n",
       "      <td>C2000</td>\n",
       "      <td>Preservation</td>\n",
       "      <td>Trust</td>\n",
       "      <td>1</td>\n",
       "      <td>10000-24999</td>\n",
       "      <td>N</td>\n",
       "      <td>6692</td>\n",
       "      <td>1</td>\n",
       "    </tr>\n",
       "    <tr>\n",
       "      <th>4</th>\n",
       "      <td>10556103</td>\n",
       "      <td>GENETIC RESEARCH INSTITUTE OF THE DESERT</td>\n",
       "      <td>T3</td>\n",
       "      <td>Independent</td>\n",
       "      <td>C1000</td>\n",
       "      <td>Heathcare</td>\n",
       "      <td>Trust</td>\n",
       "      <td>1</td>\n",
       "      <td>100000-499999</td>\n",
       "      <td>N</td>\n",
       "      <td>142590</td>\n",
       "      <td>1</td>\n",
       "    </tr>\n",
       "  </tbody>\n",
       "</table>\n",
       "</div>"
      ],
      "text/plain": [
       "        EIN                                      NAME APPLICATION_TYPE  \\\n",
       "0  10520599              BLUE KNIGHTS MOTORCYCLE CLUB              T10   \n",
       "1  10531628    AMERICAN CHESAPEAKE CLUB CHARITABLE TR               T3   \n",
       "2  10547893        ST CLOUD PROFESSIONAL FIREFIGHTERS               T5   \n",
       "3  10553066            SOUTHSIDE ATHLETIC ASSOCIATION               T3   \n",
       "4  10556103  GENETIC RESEARCH INSTITUTE OF THE DESERT               T3   \n",
       "\n",
       "        AFFILIATION CLASSIFICATION      USE_CASE  ORGANIZATION  STATUS  \\\n",
       "0       Independent          C1000    ProductDev   Association       1   \n",
       "1       Independent          C2000  Preservation  Co-operative       1   \n",
       "2  CompanySponsored          C3000    ProductDev   Association       1   \n",
       "3  CompanySponsored          C2000  Preservation         Trust       1   \n",
       "4       Independent          C1000     Heathcare         Trust       1   \n",
       "\n",
       "      INCOME_AMT SPECIAL_CONSIDERATIONS  ASK_AMT  IS_SUCCESSFUL  \n",
       "0              0                      N     5000              1  \n",
       "1         1-9999                      N   108590              1  \n",
       "2              0                      N     5000              0  \n",
       "3    10000-24999                      N     6692              1  \n",
       "4  100000-499999                      N   142590              1  "
      ]
     },
     "execution_count": 2,
     "metadata": {},
     "output_type": "execute_result"
    }
   ],
   "source": [
    "# Import file\n",
    "application_df = pd.read_csv(\"Resources/charity_data.csv\")\n",
    "application_df.head()"
   ]
  },
  {
   "cell_type": "code",
   "execution_count": 3,
   "metadata": {},
   "outputs": [],
   "source": [
    "# Drop the non-beneficial ID columns, 'EIN' and 'NAME'.\n",
    "application_df = application_df.drop(columns=[\"EIN\", \"NAME\"], axis=1)"
   ]
  },
  {
   "cell_type": "code",
   "execution_count": 4,
   "metadata": {},
   "outputs": [
    {
     "data": {
      "text/plain": [
       "APPLICATION_TYPE            17\n",
       "AFFILIATION                  6\n",
       "CLASSIFICATION              71\n",
       "USE_CASE                     5\n",
       "ORGANIZATION                 4\n",
       "STATUS                       2\n",
       "INCOME_AMT                   9\n",
       "SPECIAL_CONSIDERATIONS       2\n",
       "ASK_AMT                   8747\n",
       "IS_SUCCESSFUL                2\n",
       "dtype: int64"
      ]
     },
     "execution_count": 4,
     "metadata": {},
     "output_type": "execute_result"
    }
   ],
   "source": [
    "# Determine the number of unique values in each column.\n",
    "application_df.nunique()"
   ]
  },
  {
   "cell_type": "code",
   "execution_count": 5,
   "metadata": {},
   "outputs": [
    {
     "data": {
      "text/plain": [
       "T3     27037\n",
       "T4      1542\n",
       "T6      1216\n",
       "T5      1173\n",
       "T19     1065\n",
       "T8       737\n",
       "T7       725\n",
       "T10      528\n",
       "T9       156\n",
       "T13       66\n",
       "T12       27\n",
       "T2        16\n",
       "T14        3\n",
       "T25        3\n",
       "T29        2\n",
       "T15        2\n",
       "T17        1\n",
       "Name: APPLICATION_TYPE, dtype: int64"
      ]
     },
     "execution_count": 5,
     "metadata": {},
     "output_type": "execute_result"
    }
   ],
   "source": [
    "# Look at APPLICATION_TYPE value counts for binning\n",
    "app_type_counts = application_df['APPLICATION_TYPE'].value_counts()\n",
    "app_type_counts"
   ]
  },
  {
   "cell_type": "code",
   "execution_count": 6,
   "metadata": {},
   "outputs": [
    {
     "data": {
      "text/plain": [
       "T3       27037\n",
       "T4        1542\n",
       "T6        1216\n",
       "T5        1173\n",
       "T19       1065\n",
       "T8         737\n",
       "T7         725\n",
       "T10        528\n",
       "Other      276\n",
       "Name: APPLICATION_TYPE, dtype: int64"
      ]
     },
     "execution_count": 6,
     "metadata": {},
     "output_type": "execute_result"
    }
   ],
   "source": [
    "# Choose a cutoff value and create a list of application types to be replaced\n",
    "# Use the variable name `application_types_to_replace`\n",
    "application_types_to_replace = list(app_type_counts[app_type_counts < 500].index)\n",
    "\n",
    "# Replace in dataframe\n",
    "for app in application_types_to_replace:\n",
    "    application_df['APPLICATION_TYPE'] = application_df['APPLICATION_TYPE'].replace(app,\"Other\")\n",
    "\n",
    "# Check to make sure binning was successful\n",
    "application_df['APPLICATION_TYPE'].value_counts()"
   ]
  },
  {
   "cell_type": "code",
   "execution_count": 7,
   "metadata": {},
   "outputs": [
    {
     "data": {
      "text/plain": [
       "C1000    17326\n",
       "C2000     6074\n",
       "C1200     4837\n",
       "C3000     1918\n",
       "C2100     1883\n",
       "         ...  \n",
       "C4500        1\n",
       "C1570        1\n",
       "C6100        1\n",
       "C2170        1\n",
       "C2500        1\n",
       "Name: CLASSIFICATION, Length: 71, dtype: int64"
      ]
     },
     "execution_count": 7,
     "metadata": {},
     "output_type": "execute_result"
    }
   ],
   "source": [
    "# Look at CLASSIFICATION value counts for binning\n",
    "classification_counts = application_df['CLASSIFICATION'].value_counts()\n",
    "classification_counts"
   ]
  },
  {
   "cell_type": "code",
   "execution_count": 8,
   "metadata": {},
   "outputs": [
    {
     "name": "stdout",
     "output_type": "stream",
     "text": [
      "C1000    17326\n",
      "C2000     6074\n",
      "C1200     4837\n",
      "C3000     1918\n",
      "C2100     1883\n",
      "C7000      777\n",
      "C1700      287\n",
      "C4000      194\n",
      "C5000      116\n",
      "C1270      114\n",
      "C2700      104\n",
      "C2800       95\n",
      "C7100       75\n",
      "C1300       58\n",
      "C1280       50\n",
      "C1230       36\n",
      "C1400       34\n",
      "C2300       32\n",
      "C7200       32\n",
      "C1240       30\n",
      "C8000       20\n",
      "C7120       18\n",
      "C1500       16\n",
      "C1800       15\n",
      "C6000       15\n",
      "C1250       14\n",
      "C8200       11\n",
      "C1278       10\n",
      "C1238       10\n",
      "C1237        9\n",
      "C1235        9\n",
      "C7210        7\n",
      "C4100        6\n",
      "C2400        6\n",
      "C1720        6\n",
      "C1257        5\n",
      "C1600        5\n",
      "C2710        3\n",
      "C0           3\n",
      "C1260        3\n",
      "C3200        2\n",
      "C1234        2\n",
      "C1256        2\n",
      "C1246        2\n",
      "C1267        2\n",
      "Name: CLASSIFICATION, dtype: int64\n"
     ]
    }
   ],
   "source": [
    "# You may find it helpful to look at CLASSIFICATION value counts >1\n",
    "classification_counts_1 = application_df['CLASSIFICATION'].value_counts()\n",
    "\n",
    "print(classification_counts_1[classification_counts_1 > 1])"
   ]
  },
  {
   "cell_type": "code",
   "execution_count": 9,
   "metadata": {},
   "outputs": [
    {
     "data": {
      "text/plain": [
       "C1000    17326\n",
       "C2000     6074\n",
       "C1200     4837\n",
       "C3000     1918\n",
       "C2100     1883\n",
       "Other     1484\n",
       "C7000      777\n",
       "Name: CLASSIFICATION, dtype: int64"
      ]
     },
     "execution_count": 9,
     "metadata": {},
     "output_type": "execute_result"
    }
   ],
   "source": [
    "# Choose a cutoff value and create a list of classifications to be replaced\n",
    "# Use the variable name `classifications_to_replace`\n",
    "classifications_to_replace = list(classification_counts[classification_counts < 500].index)\n",
    "\n",
    "# Replace in dataframe\n",
    "for cls in classifications_to_replace:\n",
    "    application_df['CLASSIFICATION'] = application_df['CLASSIFICATION'].replace(cls,\"Other\")\n",
    "    \n",
    "# Check to make sure binning was successful\n",
    "application_df['CLASSIFICATION'].value_counts()"
   ]
  },
  {
   "cell_type": "code",
   "execution_count": 10,
   "metadata": {},
   "outputs": [],
   "source": [
    "# Convert categorical data to numeric with `pd.get_dummies`\n",
    "data=pd.get_dummies(application_df)"
   ]
  },
  {
   "cell_type": "code",
   "execution_count": 11,
   "metadata": {},
   "outputs": [],
   "source": [
    "# Split our preprocessed data into our features and target arrays\n",
    "y = data[\"IS_SUCCESSFUL\"].values\n",
    "X = data.drop([\"IS_SUCCESSFUL\"], axis = 1).values\n",
    "\n",
    "\n",
    "# Split the preprocessed data into a training and testing dataset\n",
    "X_train, X_test, y_train, y_test = train_test_split(X, y)"
   ]
  },
  {
   "cell_type": "code",
   "execution_count": 12,
   "metadata": {},
   "outputs": [],
   "source": [
    "# Create a StandardScaler instances\n",
    "scaler = StandardScaler()\n",
    "\n",
    "# Fit the StandardScaler\n",
    "X_scaler = scaler.fit(X_train)\n",
    "\n",
    "# Scale the data\n",
    "X_train_scaled = X_scaler.transform(X_train)\n",
    "X_test_scaled = X_scaler.transform(X_test)"
   ]
  },
  {
   "cell_type": "markdown",
   "metadata": {},
   "source": [
    "# Attempt #1 to Optimize"
   ]
  },
  {
   "cell_type": "code",
   "execution_count": 14,
   "metadata": {},
   "outputs": [
    {
     "name": "stdout",
     "output_type": "stream",
     "text": [
      "Model: \"sequential_1\"\n",
      "_________________________________________________________________\n",
      "Layer (type)                 Output Shape              Param #   \n",
      "=================================================================\n",
      "dense_2 (Dense)              (None, 100)               4500      \n",
      "_________________________________________________________________\n",
      "dense_3 (Dense)              (None, 50)                5050      \n",
      "_________________________________________________________________\n",
      "dense_4 (Dense)              (None, 25)                1275      \n",
      "_________________________________________________________________\n",
      "dense_5 (Dense)              (None, 1)                 26        \n",
      "=================================================================\n",
      "Total params: 10,851\n",
      "Trainable params: 10,851\n",
      "Non-trainable params: 0\n",
      "_________________________________________________________________\n"
     ]
    }
   ],
   "source": [
    "# Define the model - deep neural net, i.e., the number of input features and hidden nodes for each layer.\n",
    "start = len(X_train[0])\n",
    "h1 = 100\n",
    "h2 = 50\n",
    "h3 = 25\n",
    "\n",
    "nn = tf.keras.models.Sequential()\n",
    "\n",
    "# First hidden layer\n",
    "nn.add(tf.keras.layers.Dense(input_dim=start, units=h1, activation=\"relu\"))\n",
    "\n",
    "# Second hidden layer\n",
    "nn.add(tf.keras.layers.Dense(units=h2, activation=\"relu\"))\n",
    "\n",
    "# Second hidden layer\n",
    "nn.add(tf.keras.layers.Dense(units=h3, activation=\"relu\"))\n",
    "\n",
    "# Output layer\n",
    "nn.add(tf.keras.layers.Dense(units=1, activation=\"sigmoid\"))\n",
    "\n",
    "# Check the structure of the model\n",
    "nn.summary()"
   ]
  },
  {
   "cell_type": "code",
   "execution_count": 15,
   "metadata": {},
   "outputs": [],
   "source": [
    "# Compile the model\n",
    "nn.compile(loss=\"binary_crossentropy\", optimizer=\"adam\", metrics=[\"accuracy\"])"
   ]
  },
  {
   "cell_type": "code",
   "execution_count": 16,
   "metadata": {},
   "outputs": [
    {
     "name": "stdout",
     "output_type": "stream",
     "text": [
      "Epoch 1/50\n",
      "804/804 [==============================] - 1s 1ms/step - loss: 48126.1250 - accuracy: 0.4857\n",
      "Epoch 2/50\n",
      "804/804 [==============================] - 1s 1ms/step - loss: 8805.7891 - accuracy: 0.4882\n",
      "Epoch 3/50\n",
      "804/804 [==============================] - 1s 1ms/step - loss: 16883.8555 - accuracy: 0.5035\n",
      "Epoch 4/50\n",
      "804/804 [==============================] - 1s 1ms/step - loss: 14027.6768 - accuracy: 0.4968\n",
      "Epoch 5/50\n",
      "804/804 [==============================] - 1s 1ms/step - loss: 7948.0552 - accuracy: 0.4976\n",
      "Epoch 6/50\n",
      "804/804 [==============================] - 1s 1ms/step - loss: 2099.2246 - accuracy: 0.4930\n",
      "Epoch 7/50\n",
      "804/804 [==============================] - 1s 1ms/step - loss: 3816.1643 - accuracy: 0.4976\n",
      "Epoch 8/50\n",
      "804/804 [==============================] - 1s 688us/step - loss: 5808.5786 - accuracy: 0.4935\n",
      "Epoch 9/50\n",
      "804/804 [==============================] - 1s 705us/step - loss: 5904.0298 - accuracy: 0.4822\n",
      "Epoch 10/50\n",
      "804/804 [==============================] - 1s 671us/step - loss: 5012.6543 - accuracy: 0.4939\n",
      "Epoch 11/50\n",
      "804/804 [==============================] - 1s 673us/step - loss: 523.5728 - accuracy: 0.5138\n",
      "Epoch 12/50\n",
      "804/804 [==============================] - 1s 671us/step - loss: 465.5159 - accuracy: 0.5234\n",
      "Epoch 13/50\n",
      "804/804 [==============================] - 1s 664us/step - loss: 422.6174 - accuracy: 0.5115\n",
      "Epoch 14/50\n",
      "804/804 [==============================] - 1s 667us/step - loss: 2302.1655 - accuracy: 0.4971\n",
      "Epoch 15/50\n",
      "804/804 [==============================] - 1s 670us/step - loss: 969.8975 - accuracy: 0.4910\n",
      "Epoch 16/50\n",
      "804/804 [==============================] - 1s 666us/step - loss: 344.6637 - accuracy: 0.5196\n",
      "Epoch 17/50\n",
      "804/804 [==============================] - 1s 665us/step - loss: 5.5081 - accuracy: 0.5360\n",
      "Epoch 18/50\n",
      "804/804 [==============================] - 1s 691us/step - loss: 0.6987 - accuracy: 0.5349\n",
      "Epoch 19/50\n",
      "804/804 [==============================] - 1s 705us/step - loss: 0.6910 - accuracy: 0.5349\n",
      "Epoch 20/50\n",
      "804/804 [==============================] - 1s 664us/step - loss: 0.6908 - accuracy: 0.5349\n",
      "Epoch 21/50\n",
      "804/804 [==============================] - 1s 667us/step - loss: 0.6908 - accuracy: 0.5349\n",
      "Epoch 22/50\n",
      "804/804 [==============================] - 1s 667us/step - loss: 0.6908 - accuracy: 0.5349\n",
      "Epoch 23/50\n",
      "804/804 [==============================] - 1s 668us/step - loss: 0.6908 - accuracy: 0.5349\n",
      "Epoch 24/50\n",
      "804/804 [==============================] - 1s 664us/step - loss: 0.6908 - accuracy: 0.5349\n",
      "Epoch 25/50\n",
      "804/804 [==============================] - 1s 681us/step - loss: 0.6908 - accuracy: 0.5349\n",
      "Epoch 26/50\n",
      "804/804 [==============================] - 1s 683us/step - loss: 0.6908 - accuracy: 0.5349\n",
      "Epoch 27/50\n",
      "804/804 [==============================] - 1s 686us/step - loss: 0.6908 - accuracy: 0.5349\n",
      "Epoch 28/50\n",
      "804/804 [==============================] - 1s 681us/step - loss: 0.6908 - accuracy: 0.5349\n",
      "Epoch 29/50\n",
      "804/804 [==============================] - 1s 682us/step - loss: 0.6908 - accuracy: 0.5349\n",
      "Epoch 30/50\n",
      "804/804 [==============================] - 1s 681us/step - loss: 0.6907 - accuracy: 0.5349\n",
      "Epoch 31/50\n",
      "804/804 [==============================] - 1s 688us/step - loss: 0.6907 - accuracy: 0.5349\n",
      "Epoch 32/50\n",
      "804/804 [==============================] - 1s 657us/step - loss: 0.6908 - accuracy: 0.5349\n",
      "Epoch 33/50\n",
      "804/804 [==============================] - 1s 663us/step - loss: 0.6907 - accuracy: 0.5349\n",
      "Epoch 34/50\n",
      "804/804 [==============================] - 1s 674us/step - loss: 0.6908 - accuracy: 0.5349\n",
      "Epoch 35/50\n",
      "804/804 [==============================] - 1s 673us/step - loss: 0.6907 - accuracy: 0.5349\n",
      "Epoch 36/50\n",
      "804/804 [==============================] - 1s 684us/step - loss: 0.6908 - accuracy: 0.5349\n",
      "Epoch 37/50\n",
      "804/804 [==============================] - 1s 669us/step - loss: 0.6908 - accuracy: 0.5349\n",
      "Epoch 38/50\n",
      "804/804 [==============================] - 1s 671us/step - loss: 0.6907 - accuracy: 0.5349\n",
      "Epoch 39/50\n",
      "804/804 [==============================] - 1s 683us/step - loss: 0.6908 - accuracy: 0.5349\n",
      "Epoch 40/50\n",
      "804/804 [==============================] - 1s 831us/step - loss: 0.6908 - accuracy: 0.5349\n",
      "Epoch 41/50\n",
      "804/804 [==============================] - 1s 664us/step - loss: 0.6907 - accuracy: 0.5349\n",
      "Epoch 42/50\n",
      "804/804 [==============================] - 1s 677us/step - loss: 0.6908 - accuracy: 0.5349\n",
      "Epoch 43/50\n",
      "804/804 [==============================] - 1s 668us/step - loss: 0.6908 - accuracy: 0.5349\n",
      "Epoch 44/50\n",
      "804/804 [==============================] - 1s 676us/step - loss: 0.6908 - accuracy: 0.5349\n",
      "Epoch 45/50\n",
      "804/804 [==============================] - 1s 674us/step - loss: 0.6907 - accuracy: 0.5349\n",
      "Epoch 46/50\n",
      "804/804 [==============================] - 1s 684us/step - loss: 0.6908 - accuracy: 0.5349\n",
      "Epoch 47/50\n",
      "804/804 [==============================] - 1s 672us/step - loss: 0.6908 - accuracy: 0.5349\n",
      "Epoch 48/50\n",
      "804/804 [==============================] - 1s 676us/step - loss: 0.6908 - accuracy: 0.5349\n",
      "Epoch 49/50\n",
      "804/804 [==============================] - 1s 664us/step - loss: 0.6908 - accuracy: 0.5349\n",
      "Epoch 50/50\n",
      "804/804 [==============================] - 1s 667us/step - loss: 0.6908 - accuracy: 0.5349\n"
     ]
    }
   ],
   "source": [
    "fit_model = nn.fit(X_train,y_train,epochs=50)"
   ]
  },
  {
   "cell_type": "code",
   "execution_count": 17,
   "metadata": {},
   "outputs": [
    {
     "name": "stdout",
     "output_type": "stream",
     "text": [
      "268/268 - 0s - loss: 0.7287 - accuracy: 0.5248\n",
      "Loss: 0.7287497520446777, Accuracy: 0.524781346321106\n"
     ]
    }
   ],
   "source": [
    "# Evaluate the model using the test data\n",
    "model_loss, model_accuracy = nn.evaluate(X_test_scaled,y_test,verbose=2)\n",
    "print(f\"Loss: {model_loss}, Accuracy: {model_accuracy}\")"
   ]
  },
  {
   "cell_type": "markdown",
   "metadata": {},
   "source": [
    "# Attempt #2 to Optimize BEST MODEL 70%"
   ]
  },
  {
   "cell_type": "code",
   "execution_count": 118,
   "metadata": {},
   "outputs": [
    {
     "name": "stdout",
     "output_type": "stream",
     "text": [
      "Model: \"sequential_27\"\n",
      "_________________________________________________________________\n",
      "Layer (type)                 Output Shape              Param #   \n",
      "=================================================================\n",
      "dense_93 (Dense)             (None, 40)                1800      \n",
      "_________________________________________________________________\n",
      "dense_94 (Dense)             (None, 15)                615       \n",
      "_________________________________________________________________\n",
      "dense_95 (Dense)             (None, 1)                 16        \n",
      "=================================================================\n",
      "Total params: 2,431\n",
      "Trainable params: 2,431\n",
      "Non-trainable params: 0\n",
      "_________________________________________________________________\n"
     ]
    }
   ],
   "source": [
    "start = len(X_train[0])\n",
    "h1 = 40\n",
    "h2 = 15\n",
    "#h3 = 10\n",
    "\n",
    "nn = tf.keras.models.Sequential()\n",
    "\n",
    "# First hidden layer\n",
    "nn.add(tf.keras.layers.Dense(input_dim=start, units=h1, activation=\"relu\"))\n",
    "\n",
    "# Second hidden layer\n",
    "nn.add(tf.keras.layers.Dense(units=h2, activation=\"relu\"))\n",
    "\n",
    "# # Third hidden layer\n",
    "# nn.add(tf.keras.layers.Dense(units=h3, activation=\"relu\"))\n",
    "\n",
    "# Output layer\n",
    "nn.add(tf.keras.layers.Dense(units=1, activation=\"sigmoid\"))\n",
    "\n",
    "# Check the structure of the model\n",
    "nn.summary()"
   ]
  },
  {
   "cell_type": "code",
   "execution_count": 119,
   "metadata": {},
   "outputs": [],
   "source": [
    "nn.compile(loss=\"binary_crossentropy\", optimizer=\"adam\", metrics=[\"accuracy\"])"
   ]
  },
  {
   "cell_type": "code",
   "execution_count": 120,
   "metadata": {},
   "outputs": [
    {
     "name": "stdout",
     "output_type": "stream",
     "text": [
      "Epoch 1/35\n",
      "804/804 [==============================] - 1s 830us/step - loss: 21654.6953 - accuracy: 0.5019\n",
      "Epoch 2/35\n",
      "804/804 [==============================] - 1s 873us/step - loss: 14096.4346 - accuracy: 0.5040\n",
      "Epoch 3/35\n",
      "804/804 [==============================] - 1s 879us/step - loss: 30244.9434 - accuracy: 0.4907\n",
      "Epoch 4/35\n",
      "804/804 [==============================] - 1s 895us/step - loss: 13518.8975 - accuracy: 0.5074\n",
      "Epoch 5/35\n",
      "804/804 [==============================] - 1s 867us/step - loss: 11348.3535 - accuracy: 0.5190\n",
      "Epoch 6/35\n",
      "804/804 [==============================] - 1s 878us/step - loss: 27884.7832 - accuracy: 0.4941\n",
      "Epoch 7/35\n",
      "804/804 [==============================] - 1s 704us/step - loss: 9510.2793 - accuracy: 0.5077\n",
      "Epoch 8/35\n",
      "804/804 [==============================] - 1s 693us/step - loss: 6380.9062 - accuracy: 0.5264\n",
      "Epoch 9/35\n",
      "804/804 [==============================] - 1s 695us/step - loss: 7917.3726 - accuracy: 0.5152\n",
      "Epoch 10/35\n",
      "804/804 [==============================] - 1s 697us/step - loss: 15023.9238 - accuracy: 0.4979\n",
      "Epoch 11/35\n",
      "804/804 [==============================] - 1s 700us/step - loss: 4999.7593 - accuracy: 0.5246\n",
      "Epoch 12/35\n",
      "804/804 [==============================] - 1s 716us/step - loss: 2827.4592 - accuracy: 0.5500\n",
      "Epoch 13/35\n",
      "804/804 [==============================] - 1s 702us/step - loss: 6150.5879 - accuracy: 0.5208\n",
      "Epoch 14/35\n",
      "804/804 [==============================] - 1s 745us/step - loss: 4298.3398 - accuracy: 0.5335\n",
      "Epoch 15/35\n",
      "804/804 [==============================] - 1s 712us/step - loss: 5251.5073 - accuracy: 0.5099\n",
      "Epoch 16/35\n",
      "804/804 [==============================] - 1s 737us/step - loss: 9265.7490 - accuracy: 0.5098\n",
      "Epoch 17/35\n",
      "804/804 [==============================] - 1s 763us/step - loss: 1386.2241 - accuracy: 0.5334\n",
      "Epoch 18/35\n",
      "804/804 [==============================] - 1s 736us/step - loss: 4472.5591 - accuracy: 0.5097\n",
      "Epoch 19/35\n",
      "804/804 [==============================] - 1s 765us/step - loss: 1875.0973 - accuracy: 0.5074\n",
      "Epoch 20/35\n",
      "804/804 [==============================] - 1s 728us/step - loss: 1791.7120 - accuracy: 0.5229\n",
      "Epoch 21/35\n",
      "804/804 [==============================] - 1s 726us/step - loss: 2283.9658 - accuracy: 0.5042\n",
      "Epoch 22/35\n",
      "804/804 [==============================] - 1s 778us/step - loss: 2173.3005 - accuracy: 0.5051\n",
      "Epoch 23/35\n",
      "804/804 [==============================] - 1s 760us/step - loss: 706.0765 - accuracy: 0.5252\n",
      "Epoch 24/35\n",
      "804/804 [==============================] - 1s 784us/step - loss: 1674.1342 - accuracy: 0.5152\n",
      "Epoch 25/35\n",
      "804/804 [==============================] - 1s 762us/step - loss: 434.5423 - accuracy: 0.5238\n",
      "Epoch 26/35\n",
      "804/804 [==============================] - 1s 768us/step - loss: 600.1663 - accuracy: 0.5032\n",
      "Epoch 27/35\n",
      "804/804 [==============================] - 1s 778us/step - loss: 0.7946 - accuracy: 0.5349\n",
      "Epoch 28/35\n",
      "804/804 [==============================] - 1s 783us/step - loss: 0.7083 - accuracy: 0.5349\n",
      "Epoch 29/35\n",
      "804/804 [==============================] - 1s 771us/step - loss: 0.6904 - accuracy: 0.5349\n",
      "Epoch 30/35\n",
      "804/804 [==============================] - 1s 779us/step - loss: 0.6813 - accuracy: 0.5349\n",
      "Epoch 31/35\n",
      "804/804 [==============================] - 1s 775us/step - loss: 0.6627 - accuracy: 0.5349\n",
      "Epoch 32/35\n",
      "804/804 [==============================] - 1s 769us/step - loss: 0.6454 - accuracy: 0.6459\n",
      "Epoch 33/35\n",
      "804/804 [==============================] - 1s 761us/step - loss: 0.6438 - accuracy: 0.6646\n",
      "Epoch 34/35\n",
      "804/804 [==============================] - 1s 770us/step - loss: 0.6562 - accuracy: 0.6433\n",
      "Epoch 35/35\n",
      "804/804 [==============================] - 1s 760us/step - loss: 0.6931 - accuracy: 0.5136\n"
     ]
    }
   ],
   "source": [
    "fit_model = nn.fit(X_train,y_train,epochs=35)"
   ]
  },
  {
   "cell_type": "code",
   "execution_count": 121,
   "metadata": {},
   "outputs": [
    {
     "name": "stdout",
     "output_type": "stream",
     "text": [
      "268/268 - 0s - loss: 0.6588 - accuracy: 0.6309\n",
      "Loss: 0.6588335037231445, Accuracy: 0.6309037804603577\n"
     ]
    }
   ],
   "source": [
    "model_loss, model_accuracy = nn.evaluate(X_test_scaled,y_test,verbose=2)\n",
    "print(f\"Loss: {model_loss}, Accuracy: {model_accuracy}\")"
   ]
  },
  {
   "cell_type": "code",
   "execution_count": 122,
   "metadata": {},
   "outputs": [],
   "source": [
    "# Export our model to HDF5 file\n",
    "nn.save(\"AlphabetSoupCharity_Optimization.h5\")"
   ]
  },
  {
   "cell_type": "markdown",
   "metadata": {},
   "source": [
    "# Attempt #3 to Optimize"
   ]
  },
  {
   "cell_type": "code",
   "execution_count": 113,
   "metadata": {},
   "outputs": [
    {
     "name": "stdout",
     "output_type": "stream",
     "text": [
      "Model: \"sequential_26\"\n",
      "_________________________________________________________________\n",
      "Layer (type)                 Output Shape              Param #   \n",
      "=================================================================\n",
      "dense_89 (Dense)             (None, 40)                1800      \n",
      "_________________________________________________________________\n",
      "dense_90 (Dense)             (None, 15)                615       \n",
      "_________________________________________________________________\n",
      "dense_91 (Dense)             (None, 10)                160       \n",
      "_________________________________________________________________\n",
      "dense_92 (Dense)             (None, 1)                 11        \n",
      "=================================================================\n",
      "Total params: 2,586\n",
      "Trainable params: 2,586\n",
      "Non-trainable params: 0\n",
      "_________________________________________________________________\n"
     ]
    }
   ],
   "source": [
    "start = len(X_train[0])\n",
    "h1 = 40\n",
    "h2 = 15\n",
    "h3 = 10\n",
    "\n",
    "nn = tf.keras.models.Sequential()\n",
    "\n",
    "# First hidden layer\n",
    "nn.add(tf.keras.layers.Dense(input_dim=start, units=h1, activation=\"relu\"))\n",
    "\n",
    "# Second hidden layer\n",
    "nn.add(tf.keras.layers.Dense(units=h2, activation=\"relu\"))\n",
    "\n",
    "# Third hidden layer\n",
    "nn.add(tf.keras.layers.Dense(units=h3, activation=\"relu\"))\n",
    "\n",
    "# Output layer\n",
    "nn.add(tf.keras.layers.Dense(units=1, activation=\"sigmoid\"))\n",
    "\n",
    "# Check the structure of the model\n",
    "nn.summary()"
   ]
  },
  {
   "cell_type": "code",
   "execution_count": 114,
   "metadata": {},
   "outputs": [],
   "source": [
    "nn.compile(loss=\"binary_crossentropy\", optimizer=\"adam\", metrics=[\"accuracy\"])"
   ]
  },
  {
   "cell_type": "code",
   "execution_count": 115,
   "metadata": {},
   "outputs": [
    {
     "name": "stdout",
     "output_type": "stream",
     "text": [
      "Epoch 1/29\n",
      "804/804 [==============================] - 1s 884us/step - loss: 9310.4121 - accuracy: 0.4965\n",
      "Epoch 2/29\n",
      "804/804 [==============================] - 1s 939us/step - loss: 13512.6484 - accuracy: 0.4881\n",
      "Epoch 3/29\n",
      "804/804 [==============================] - 1s 909us/step - loss: 5616.6909 - accuracy: 0.4972\n",
      "Epoch 4/29\n",
      "804/804 [==============================] - 1s 948us/step - loss: 5623.7207 - accuracy: 0.5034\n",
      "Epoch 5/29\n",
      "804/804 [==============================] - 1s 946us/step - loss: 3214.0227 - accuracy: 0.4886\n",
      "Epoch 6/29\n",
      "804/804 [==============================] - 1s 961us/step - loss: 3951.2502 - accuracy: 0.4999\n",
      "Epoch 7/29\n",
      "804/804 [==============================] - 1s 975us/step - loss: 3029.8752 - accuracy: 0.5023\n",
      "Epoch 8/29\n",
      "804/804 [==============================] - 1s 971us/step - loss: 9510.3496 - accuracy: 0.4900\n",
      "Epoch 9/29\n",
      "804/804 [==============================] - 1s 956us/step - loss: 9613.2031 - accuracy: 0.4925\n",
      "Epoch 10/29\n",
      "804/804 [==============================] - 1s 960us/step - loss: 3074.8167 - accuracy: 0.4963\n",
      "Epoch 11/29\n",
      "804/804 [==============================] - 1s 987us/step - loss: 4701.6665 - accuracy: 0.4959\n",
      "Epoch 12/29\n",
      "804/804 [==============================] - 1s 886us/step - loss: 3707.1831 - accuracy: 0.4934\n",
      "Epoch 13/29\n",
      "804/804 [==============================] - 1s 777us/step - loss: 4200.2744 - accuracy: 0.4706\n",
      "Epoch 14/29\n",
      "804/804 [==============================] - 1s 850us/step - loss: 51.7617 - accuracy: 0.5279\n",
      "Epoch 15/29\n",
      "804/804 [==============================] - 1s 886us/step - loss: 117.4616 - accuracy: 0.5281\n",
      "Epoch 16/29\n",
      "804/804 [==============================] - 1s 948us/step - loss: 32.8649 - accuracy: 0.5330\n",
      "Epoch 17/29\n",
      "804/804 [==============================] - 1s 977us/step - loss: 0.7915 - accuracy: 0.5349\n",
      "Epoch 18/29\n",
      "804/804 [==============================] - 1s 1ms/step - loss: 0.6932 - accuracy: 0.5349\n",
      "Epoch 19/29\n",
      "804/804 [==============================] - 1s 1ms/step - loss: 0.6908 - accuracy: 0.5349\n",
      "Epoch 20/29\n",
      "804/804 [==============================] - 1s 1ms/step - loss: 0.6907 - accuracy: 0.5349\n",
      "Epoch 21/29\n",
      "804/804 [==============================] - 1s 1ms/step - loss: 0.6908 - accuracy: 0.5349\n",
      "Epoch 22/29\n",
      "804/804 [==============================] - 1s 989us/step - loss: 0.6907 - accuracy: 0.5349\n",
      "Epoch 23/29\n",
      "804/804 [==============================] - 1s 881us/step - loss: 0.6908 - accuracy: 0.5349\n",
      "Epoch 24/29\n",
      "804/804 [==============================] - 1s 800us/step - loss: 0.6908 - accuracy: 0.5349\n",
      "Epoch 25/29\n",
      "804/804 [==============================] - 1s 809us/step - loss: 0.6907 - accuracy: 0.5349\n",
      "Epoch 26/29\n",
      "804/804 [==============================] - 1s 802us/step - loss: 0.6908 - accuracy: 0.5349\n",
      "Epoch 27/29\n",
      "804/804 [==============================] - 1s 810us/step - loss: 0.6908 - accuracy: 0.5349\n",
      "Epoch 28/29\n",
      "804/804 [==============================] - 1s 817us/step - loss: 0.6908 - accuracy: 0.5349\n",
      "Epoch 29/29\n",
      "804/804 [==============================] - 1s 786us/step - loss: 0.6908 - accuracy: 0.5349\n"
     ]
    }
   ],
   "source": [
    "fit_model = nn.fit(X_train,y_train,epochs=29)"
   ]
  },
  {
   "cell_type": "code",
   "execution_count": 116,
   "metadata": {},
   "outputs": [
    {
     "name": "stdout",
     "output_type": "stream",
     "text": [
      "268/268 - 0s - loss: 1.0156 - accuracy: 0.5248\n",
      "Loss: 1.0155813694000244, Accuracy: 0.524781346321106\n"
     ]
    }
   ],
   "source": [
    "model_loss, model_accuracy = nn.evaluate(X_test_scaled,y_test,verbose=2)\n",
    "print(f\"Loss: {model_loss}, Accuracy: {model_accuracy}\")"
   ]
  },
  {
   "cell_type": "code",
   "execution_count": null,
   "metadata": {},
   "outputs": [],
   "source": []
  },
  {
   "cell_type": "code",
   "execution_count": null,
   "metadata": {},
   "outputs": [],
   "source": []
  },
  {
   "cell_type": "code",
   "execution_count": null,
   "metadata": {},
   "outputs": [],
   "source": []
  }
 ],
 "metadata": {
  "kernelspec": {
   "display_name": "Python [conda env:PythonData] *",
   "language": "python",
   "name": "conda-env-PythonData-py"
  },
  "language_info": {
   "codemirror_mode": {
    "name": "ipython",
    "version": 3
   },
   "file_extension": ".py",
   "mimetype": "text/x-python",
   "name": "python",
   "nbconvert_exporter": "python",
   "pygments_lexer": "ipython3",
   "version": "3.8.5"
  }
 },
 "nbformat": 4,
 "nbformat_minor": 4
}
